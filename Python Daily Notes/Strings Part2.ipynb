{
 "cells": [
  {
   "cell_type": "markdown",
   "metadata": {},
   "source": [
    "strip:\n",
    "    this method is used to remove the space at the starting and at ending of the given string\n",
    "    \n",
    "  Syntax: string.strip()\n",
    "    input:string\n",
    "    output:string\n",
    "        \n",
    "        "
   ]
  },
  {
   "cell_type": "code",
   "execution_count": 2,
   "metadata": {},
   "outputs": [
    {
     "name": "stdout",
     "output_type": "stream",
     "text": [
      "48\n",
      "5\n"
     ]
    }
   ],
   "source": [
    "  data=\"                       india                    \"\n",
    "print(len(data))\n",
    "\n",
    "data=data.strip()\n",
    "\n",
    "print(len(data))\n",
    "\n",
    "\n",
    "    "
   ]
  },
  {
   "cell_type": "markdown",
   "metadata": {},
   "source": [
    "find():\n",
    "    this method is used to get the index position of the given word onn the sourcde string\n",
    "    if the there multiple matches avaible, then only the first occurance will be taken into consideration\n",
    "    if no match is founnd then the output will be lessthan 0\n",
    "    if the match is found then the output will be >=0"
   ]
  },
  {
   "cell_type": "code",
   "execution_count": 11,
   "metadata": {},
   "outputs": [],
   "source": [
    "data=\"india is a great country great place to leave\""
   ]
  },
  {
   "cell_type": "code",
   "execution_count": 14,
   "metadata": {},
   "outputs": [],
   "source": [
    "pos=data.rfind(\"great\")"
   ]
  },
  {
   "cell_type": "code",
   "execution_count": 15,
   "metadata": {},
   "outputs": [
    {
     "name": "stdout",
     "output_type": "stream",
     "text": [
      "25\n"
     ]
    }
   ],
   "source": [
    "print(pos)"
   ]
  },
  {
   "cell_type": "markdown",
   "metadata": {},
   "source": [
    "index:this method will work as same as find, but if there is no match found on the given source string, then we will get an exception"
   ]
  },
  {
   "cell_type": "code",
   "execution_count": 16,
   "metadata": {},
   "outputs": [
    {
     "ename": "ValueError",
     "evalue": "substring not found",
     "output_type": "error",
     "traceback": [
      "\u001b[1;31m---------------------------------------------------------------------------\u001b[0m",
      "\u001b[1;31mValueError\u001b[0m                                Traceback (most recent call last)",
      "\u001b[1;32m<ipython-input-16-c32107a60044>\u001b[0m in \u001b[0;36m<module>\u001b[1;34m\u001b[0m\n\u001b[0;32m      1\u001b[0m \u001b[0mdata\u001b[0m\u001b[1;33m=\u001b[0m\u001b[1;34m\"india is a great country great place to leave\"\u001b[0m\u001b[1;33m\u001b[0m\u001b[1;33m\u001b[0m\u001b[0m\n\u001b[0;32m      2\u001b[0m \u001b[1;33m\u001b[0m\u001b[0m\n\u001b[1;32m----> 3\u001b[1;33m \u001b[0mpos\u001b[0m\u001b[1;33m=\u001b[0m\u001b[0mdata\u001b[0m\u001b[1;33m.\u001b[0m\u001b[0mindex\u001b[0m\u001b[1;33m(\u001b[0m\u001b[1;34m\"XYZ\"\u001b[0m\u001b[1;33m)\u001b[0m\u001b[1;33m\u001b[0m\u001b[1;33m\u001b[0m\u001b[0m\n\u001b[0m\u001b[0;32m      4\u001b[0m \u001b[0mprint\u001b[0m\u001b[1;33m(\u001b[0m\u001b[0mpos\u001b[0m\u001b[1;33m)\u001b[0m\u001b[1;33m\u001b[0m\u001b[1;33m\u001b[0m\u001b[0m\n",
      "\u001b[1;31mValueError\u001b[0m: substring not found"
     ]
    }
   ],
   "source": [
    "data=\"india is a great country great place to leave\"\n",
    "\n",
    "pos=data.index(\"XYZ\")\n",
    "print(pos)"
   ]
  },
  {
   "cell_type": "markdown",
   "metadata": {},
   "source": [
    "format():\n",
    "\n",
    "this method is used to build and formt the given sources string according to the user usage\n",
    "\n",
    "genersally we tend to use concat operator to join or to merge two or more string.\n",
    "\n",
    "but it will leads performance issues. to over come that, we should use format method\n",
    "\n",
    "Syntax:\n",
    "\n",
    "string or strinf variable.format(value1,valu2....valuen)"
   ]
  },
  {
   "cell_type": "code",
   "execution_count": 19,
   "metadata": {},
   "outputs": [
    {
     "name": "stdout",
     "output_type": "stream",
     "text": [
      "The Person details are Name : Prathap The Age : 29 The Place :  Nellore\n"
     ]
    }
   ],
   "source": [
    "name=\"Prathap\"\n",
    "age=29\n",
    "place=\"Nellore\"\n",
    "msg=\"The Person details are Name : {name} The Age : {age} The Place :  {place}\"\n",
    "data=msg.format(name=name,age=age,place=place)\n",
    "print(data)"
   ]
  },
  {
   "cell_type": "markdown",
   "metadata": {},
   "source": [
    "Slipt():\n",
    "this method is used to split the string based on some delimiter\n",
    "this method will return a list of elements\n",
    "\n",
    "data=\"America;japan;india\" # ;\n",
    "\n",
    "syntax: string or string varibale.split(\";\")"
   ]
  },
  {
   "cell_type": "code",
   "execution_count": 20,
   "metadata": {},
   "outputs": [
    {
     "name": "stdout",
     "output_type": "stream",
     "text": [
      "['America', 'japan', 'india']\n"
     ]
    }
   ],
   "source": [
    "data=\"America;japan;india\"\n",
    "\n",
    "listElements=data.split(\";\")\n",
    "\n",
    "print(listElements)"
   ]
  },
  {
   "cell_type": "markdown",
   "metadata": {},
   "source": [
    "partiation: in split method when we split using deleimiter, in the list we cant see the delimiter, where as in partition methd \n",
    "\n",
    "it will break the string into \n",
    "\n",
    "before delimiter ---one part\n",
    "\n",
    "delimiter---one part\n",
    "\n",
    "afterdelimiter--- another part"
   ]
  },
  {
   "cell_type": "code",
   "execution_count": 22,
   "metadata": {},
   "outputs": [
    {
     "name": "stdout",
     "output_type": "stream",
     "text": [
      "['Heloo india ', ' great country']\n",
      "('Heloo india ', 'is', ' great country')\n"
     ]
    }
   ],
   "source": [
    "data=\"Heloo india is great country\"\n",
    "\n",
    "print(data.split(\"is\"))\n",
    "print(data.partition(\"is\"))"
   ]
  },
  {
   "cell_type": "markdown",
   "metadata": {},
   "source": [
    "Replace():\n",
    "this method is used to find some value and replave with some value\n",
    "\n",
    "syntax: string or string variable.replace(findvalue,replacevalue)"
   ]
  },
  {
   "cell_type": "code",
   "execution_count": 23,
   "metadata": {},
   "outputs": [
    {
     "name": "stdout",
     "output_type": "stream",
     "text": [
      "india is large country\n"
     ]
    }
   ],
   "source": [
    "data=\"india is great country\"\n",
    "print(data.replace(\"great\",\"large\"))"
   ]
  },
  {
   "cell_type": "code",
   "execution_count": 29,
   "metadata": {},
   "outputs": [
    {
     "name": "stdout",
     "output_type": "stream",
     "text": [
      "['\\n', '10gen software company began developing MongoDB in 2007 as a component of a planned platform as a service product. In 2009, the company shifted to an open-source development model, with the company offering commercial support and other services. In 2013, 10gen changed its name to MongoDB Inc.[6]\\n', '\\n', '\\n', 'On October 20, 2017, MongoDB became a publicly traded company, listed on NASDAQ as MDB with an IPO price of $24 per share.[7]\\n', '\\n', '\\n', \"On October 30, 2019, MongoDB teamed up with Alibaba (NYSE:BABA) Cloud, who will offer its customers a MongoDB-as-a-service solution. Customers can use the managed offering from BABA's global data centers.[8]\\n\"]\n",
      "\n",
      "\n",
      "\n",
      "\n",
      "10gen software company began developing MongoDB in 2007 as a component of a planned platform as a service product. In 2009, the company shifted to an open-source development model, with the company offering commercial support and other services. In 2013, 10gen changed its name to MongoDB Inc.[6]\n",
      "\n",
      "\n",
      "\n",
      "\n",
      "\n",
      "\n",
      "\n",
      "\n",
      "\n",
      "\n",
      "\n",
      "On October 20, 2017, MongoDB became a publicly traded company, listed on NASDAQ as MDB with an IPO price of $24 per share.[7]\n",
      "\n",
      "\n",
      "\n",
      "\n",
      "\n",
      "\n",
      "\n",
      "\n",
      "\n",
      "\n",
      "\n",
      "On October 30, 2019, MongoDB teamed up with Alibaba (NYSE:BABA) Cloud, who will offer its customers a MongoDB-as-a-service solution. Customers can use the managed offering from BABA's global data centers.[8]\n",
      "\n",
      "\n",
      "\n"
     ]
    }
   ],
   "source": [
    "data='''\n",
    "10gen software company began developing MongoDB in 2007 as a component of a planned platform as a service product. In 2009, the company shifted to an open-source development model, with the company offering commercial support and other services. In 2013, 10gen changed its name to MongoDB Inc.[6]\\n\n",
    "\n",
    "On October 20, 2017, MongoDB became a publicly traded company, listed on NASDAQ as MDB with an IPO price of $24 per share.[7]\\n\n",
    "\n",
    "On October 30, 2019, MongoDB teamed up with Alibaba (NYSE:BABA) Cloud, who will offer its customers a MongoDB-as-a-service solution. Customers can use the managed offering from BABA's global data centers.[8]\n",
    "'''\n",
    "\n",
    "msg=data.splitlines(True)\n",
    "print(msg)\n",
    "\n",
    "\n",
    "for line in msg:\n",
    "    \n",
    "    print(line)\n",
    "    print(\"\\n\")\n",
    "\n",
    "\n"
   ]
  },
  {
   "cell_type": "markdown",
   "metadata": {},
   "source": [
    "starts-with:this method is used to verify if the given string starting with any specific word or not\n",
    "    \n"
   ]
  },
  {
   "cell_type": "code",
   "execution_count": 31,
   "metadata": {},
   "outputs": [
    {
     "name": "stdout",
     "output_type": "stream",
     "text": [
      "False\n"
     ]
    }
   ],
   "source": [
    "data=\"Fatal : 404 page not found\"\n",
    "\n",
    "print(data.startswith(\"Error\"))"
   ]
  },
  {
   "cell_type": "code",
   "execution_count": null,
   "metadata": {},
   "outputs": [],
   "source": []
  }
 ],
 "metadata": {
  "kernelspec": {
   "display_name": "Python 3",
   "language": "python",
   "name": "python3"
  },
  "language_info": {
   "codemirror_mode": {
    "name": "ipython",
    "version": 3
   },
   "file_extension": ".py",
   "mimetype": "text/x-python",
   "name": "python",
   "nbconvert_exporter": "python",
   "pygments_lexer": "ipython3",
   "version": "3.7.6"
  }
 },
 "nbformat": 4,
 "nbformat_minor": 4
}
