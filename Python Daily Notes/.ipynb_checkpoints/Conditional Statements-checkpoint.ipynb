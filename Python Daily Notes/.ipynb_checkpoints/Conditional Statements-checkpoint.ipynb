{
 "cells": [
  {
   "cell_type": "markdown",
   "metadata": {},
   "source": [
    "Conditional statements are used to alter the flow of execution\n",
    "\n",
    "Conditional statements are depend on user given condition\n",
    "\n",
    "conditions will be like below listed\n",
    "\n",
    "    * Equal ==\n",
    "    * Greater >\n",
    "    * Lesser <\n",
    "    * Greater than equal >=\n",
    "    * Lesser than equal <=\n",
    "    * not equal !=\n",
    "    * And and\n",
    "    * Or or\n",
    "    * not not\n",
    "\n",
    "in python there are different types of conditional statements available\n",
    "\n",
    "    * simple if\n",
    "    * if else\n",
    "    * elif\n",
    "    \n",
    "in python we dont have a switch case like we have in other programming languages\n",
    "\n",
    "Simple if:\n",
    "\n",
    "simple if statemnt will check for the condition is true or false.\n",
    "if the condition is true then the body will get executed\n",
    "if the condition is false then teh body will noyt get executed.\n",
    "\n",
    "\n",
    "syntax:\n",
    "\n",
    "if condition:\n",
    "    // indentation is mandatory\n",
    "    .....inside the if condition body\n",
    "    \n",
    "......  new line of code\n",
    "\n",
    "\n",
    "if else:\n",
    "\n",
    "this statement is used, when the if condition is not true, then the code available in the else block will get executed automatically without checking any condition.\n",
    "\n",
    "syntax:\n",
    "\n",
    "if condition:\n",
    "    //logic\n",
    "else:\n",
    "    //logic\n",
    "    \n",
    "ElIf:\n",
    "\n",
    "if we want to check more than one condition we elif\n",
    "\n",
    "say suppose your if condition is false, and if you want to check any other condition , then we use el if\n",
    "\n",
    "\n",
    "    \n",
    "    "
   ]
  },
  {
   "cell_type": "code",
   "execution_count": 3,
   "metadata": {},
   "outputs": [
    {
     "name": "stdout",
     "output_type": "stream",
     "text": [
      "A is not greater than B\n"
     ]
    }
   ],
   "source": [
    "a=20\n",
    "b=40\n",
    "\n",
    "# compare if a is greater than b\n",
    "\n",
    "if a>b:\n",
    "    print(\"a is greater than b\")\n",
    "else:\n",
    "    print(\"A is not greater than B\")"
   ]
  },
  {
   "cell_type": "code",
   "execution_count": 5,
   "metadata": {},
   "outputs": [
    {
     "name": "stdout",
     "output_type": "stream",
     "text": [
      "X is less than Y , but it is in the range of 20 and 80\n"
     ]
    }
   ],
   "source": [
    "x=70\n",
    "y=500\n",
    "\n",
    "if x>y:\n",
    "    print(\"X is greater than Y\")\n",
    "elif x>20 and x<80:\n",
    "    print(\"X is less than Y , but it is in the range of 20 and 80\")\n",
    "    \n",
    "else:\n",
    "    print(\"X is less than Y, also not in the range of 20 and 80\")\n",
    "\n",
    "\n"
   ]
  },
  {
   "cell_type": "code",
   "execution_count": null,
   "metadata": {},
   "outputs": [],
   "source": []
  }
 ],
 "metadata": {
  "kernelspec": {
   "display_name": "Python 3",
   "language": "python",
   "name": "python3"
  },
  "language_info": {
   "codemirror_mode": {
    "name": "ipython",
    "version": 3
   },
   "file_extension": ".py",
   "mimetype": "text/x-python",
   "name": "python",
   "nbconvert_exporter": "python",
   "pygments_lexer": "ipython3",
   "version": "3.7.6"
  }
 },
 "nbformat": 4,
 "nbformat_minor": 4
}
