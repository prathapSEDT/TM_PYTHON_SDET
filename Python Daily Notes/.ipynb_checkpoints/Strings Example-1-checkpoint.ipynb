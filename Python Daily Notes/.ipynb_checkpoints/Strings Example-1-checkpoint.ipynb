{
 "cells": [
  {
   "cell_type": "markdown",
   "metadata": {},
   "source": [
    "Problem statement :\n",
    "    User must need to extract a numeric part from the given source string\n",
    "    \n",
    "    data=\"My transaction id : 7084\"\n",
    "    \n",
    "    tips: \n",
    "    1.first observe how the expected data is available in the source string\n",
    "    2.check if you can find any delimiter to identify the data, easily, else try to insert a delimiter\n",
    "    3.think what method helps you to reach the data using the delimiter\n",
    "    4.apply the method\n",
    "    5.check the results\n",
    "    "
   ]
  },
  {
   "cell_type": "code",
   "execution_count": 9,
   "metadata": {},
   "outputs": [],
   "source": [
    "data=\"Mytransactionid70848672145875424isgeneratedsucessfully\"\n",
    "# pos=data[data.find(\":\")+1:].strip() \n",
    "# output=pos[0:pos.find(\" \")]\n",
    "# print(output)\n"
   ]
  },
  {
   "cell_type": "code",
   "execution_count": 10,
   "metadata": {},
   "outputs": [
    {
     "name": "stdout",
     "output_type": "stream",
     "text": [
      "70848672145875424\n"
     ]
    }
   ],
   "source": [
    "# lst=data.split(\" \")\n",
    "\n",
    "# for x in lst:\n",
    "#     if str(x).isdigit():\n",
    "#         print(x)"
   ]
  },
  {
   "cell_type": "code",
   "execution_count": 11,
   "metadata": {},
   "outputs": [
    {
     "name": "stdout",
     "output_type": "stream",
     "text": [
      "70848672145875424\n"
     ]
    }
   ],
   "source": [
    "temp=\"\"\n",
    "for x in data:\n",
    "    \n",
    "    if str(x).isdigit():\n",
    "        temp=temp+str(x)\n",
    "print(temp)"
   ]
  },
  {
   "cell_type": "code",
   "execution_count": null,
   "metadata": {},
   "outputs": [],
   "source": []
  }
 ],
 "metadata": {
  "kernelspec": {
   "display_name": "Python 3",
   "language": "python",
   "name": "python3"
  },
  "language_info": {
   "codemirror_mode": {
    "name": "ipython",
    "version": 3
   },
   "file_extension": ".py",
   "mimetype": "text/x-python",
   "name": "python",
   "nbconvert_exporter": "python",
   "pygments_lexer": "ipython3",
   "version": "3.7.6"
  }
 },
 "nbformat": 4,
 "nbformat_minor": 4
}
