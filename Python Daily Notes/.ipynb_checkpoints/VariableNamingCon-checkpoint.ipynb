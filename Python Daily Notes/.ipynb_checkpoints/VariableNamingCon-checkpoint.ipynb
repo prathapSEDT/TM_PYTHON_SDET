{
 "cells": [
  {
   "cell_type": "markdown",
   "metadata": {},
   "source": [
    "# Naming Conventions that need to be follow  while creating a variable or a method or def"
   ]
  },
  {
   "cell_type": "markdown",
   "metadata": {},
   "source": [
    "1.Variable name should not have any spaces\n",
    "2.Variable should not starts with numeric, but you can we have a numeric at any place\n",
    "3.Variable name must be always be similar to the business process that you are working on\n",
    "4.Variable can be duplictae, but it will take most recent one\n",
    "5.One can use a underscore, instead of spaces for a  variable\n",
    "Ex: user Name---->>> User_Name    \n",
    "6.No other special character is allowed except underscore\n",
    "7.Variables are always a case sensitive"
   ]
  },
  {
   "cell_type": "code",
   "execution_count": 8,
   "metadata": {},
   "outputs": [],
   "source": [
    "str_userName=\"user01\"\n",
    "str_passWord=\"pass1234\"\n",
    "int_Age=45\n",
    "#startswith small and continue with caps"
   ]
  },
  {
   "cell_type": "code",
   "execution_count": 9,
   "metadata": {},
   "outputs": [],
   "source": [
    "userName1=\"prathap\""
   ]
  },
  {
   "cell_type": "code",
   "execution_count": 10,
   "metadata": {},
   "outputs": [],
   "source": [
    "u12569srName78956=\"Hello\""
   ]
  },
  {
   "cell_type": "code",
   "execution_count": 11,
   "metadata": {},
   "outputs": [],
   "source": [
    "age=45\n",
    "place=\"Hyd\"\n",
    "age=96\n",
    "age=0.1"
   ]
  },
  {
   "cell_type": "code",
   "execution_count": 12,
   "metadata": {},
   "outputs": [
    {
     "name": "stdout",
     "output_type": "stream",
     "text": [
      "0.1\n"
     ]
    }
   ],
   "source": [
    "print(age)"
   ]
  },
  {
   "cell_type": "code",
   "execution_count": 13,
   "metadata": {},
   "outputs": [],
   "source": [
    "age=45\n",
    "Age=96\n"
   ]
  },
  {
   "cell_type": "code",
   "execution_count": 15,
   "metadata": {},
   "outputs": [
    {
     "name": "stdout",
     "output_type": "stream",
     "text": [
      "45\n",
      "96\n"
     ]
    }
   ],
   "source": [
    "print(age)\n",
    "print(Age)"
   ]
  },
  {
   "cell_type": "code",
   "execution_count": null,
   "metadata": {},
   "outputs": [],
   "source": []
  }
 ],
 "metadata": {
  "kernelspec": {
   "display_name": "Python 3",
   "language": "python",
   "name": "python3"
  },
  "language_info": {
   "codemirror_mode": {
    "name": "ipython",
    "version": 3
   },
   "file_extension": ".py",
   "mimetype": "text/x-python",
   "name": "python",
   "nbconvert_exporter": "python",
   "pygments_lexer": "ipython3",
   "version": "3.7.6"
  }
 },
 "nbformat": 4,
 "nbformat_minor": 4
}
