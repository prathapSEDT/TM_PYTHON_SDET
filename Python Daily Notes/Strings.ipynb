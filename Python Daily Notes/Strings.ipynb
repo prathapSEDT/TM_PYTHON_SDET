{
 "cells": [
  {
   "cell_type": "markdown",
   "metadata": {},
   "source": [
    "Strings are called as combination words,special characters,numbers and including white spaces\n",
    "\n",
    "in python strings are represented with double quotes,triple quotes, and single quotes\n",
    "\n",
    "anything that is represented in \"\",'',''' ''', we call it as a string\n",
    "\n",
    "in python string is called as iteratable object\n",
    "\n",
    "in python string have self indexing as an array\n",
    "\n",
    "it means that each character available in the string will have an index associated with it\n",
    "\n",
    "\n",
    "\n",
    "Ex: \"I am Learning Python\"\n",
    "\n",
    "now on this string , i -0 1, a -2........n\n",
    "\n",
    "\n"
   ]
  },
  {
   "cell_type": "code",
   "execution_count": 3,
   "metadata": {},
   "outputs": [
    {
     "name": "stdout",
     "output_type": "stream",
     "text": [
      "I\n",
      " \n",
      "a\n",
      "m\n",
      " \n",
      "l\n",
      "e\n",
      "a\n",
      "r\n",
      "n\n",
      "i\n",
      "n\n",
      "g\n",
      " \n",
      "p\n",
      "y\n",
      "t\n",
      "h\n",
      "o\n",
      "n\n"
     ]
    }
   ],
   "source": [
    "data=\"I am learning python\"\n",
    "\n",
    "for chr in data:\n",
    "    \n",
    "    print(chr)\n",
    "\n",
    "\n"
   ]
  },
  {
   "cell_type": "markdown",
   "metadata": {},
   "source": [
    "String in python supports indexing.\n",
    "\n",
    "using index we can extract the characters\n",
    "\n"
   ]
  },
  {
   "cell_type": "code",
   "execution_count": 4,
   "metadata": {},
   "outputs": [
    {
     "name": "stdout",
     "output_type": "stream",
     "text": [
      "I\n"
     ]
    }
   ],
   "source": [
    "print(data[0])"
   ]
  },
  {
   "cell_type": "code",
   "execution_count": 5,
   "metadata": {},
   "outputs": [
    {
     "name": "stdout",
     "output_type": "stream",
     "text": [
      " \n"
     ]
    }
   ],
   "source": [
    "print(data[1])"
   ]
  },
  {
   "cell_type": "markdown",
   "metadata": {},
   "source": [
    "String in python supports slicing\n",
    "\n",
    "Slicing means cropping of characters"
   ]
  },
  {
   "cell_type": "code",
   "execution_count": 6,
   "metadata": {},
   "outputs": [
    {
     "name": "stdout",
     "output_type": "stream",
     "text": [
      "I am\n"
     ]
    }
   ],
   "source": [
    "data=\"I am learning python\"\n",
    "\n",
    "print(data[0:4])"
   ]
  },
  {
   "cell_type": "markdown",
   "metadata": {},
   "source": [
    "in python , to manipulate the data there some methods associated with it."
   ]
  },
  {
   "cell_type": "markdown",
   "metadata": {},
   "source": [
    "1.len\n",
    "\n",
    "this method is used to get the length of whole string\n",
    "\n",
    "length includes total number of chatrcters including white spaces\n",
    "\n",
    "syntax:\n",
    "\n",
    "len(string or string variable)\n",
    "\n",
    "output: int"
   ]
  },
  {
   "cell_type": "code",
   "execution_count": 8,
   "metadata": {},
   "outputs": [
    {
     "name": "stdout",
     "output_type": "stream",
     "text": [
      "23\n"
     ]
    }
   ],
   "source": [
    "data=\"python is easy to learn\"\n",
    "\n",
    "print(len(data))"
   ]
  },
  {
   "cell_type": "markdown",
   "metadata": {},
   "source": [
    "using len method print each character from the source string"
   ]
  },
  {
   "cell_type": "code",
   "execution_count": 9,
   "metadata": {},
   "outputs": [
    {
     "name": "stdout",
     "output_type": "stream",
     "text": [
      "p\n",
      "y\n",
      "t\n",
      "h\n",
      "o\n",
      "n\n",
      " \n",
      "i\n",
      "s\n",
      " \n",
      "e\n",
      "a\n",
      "s\n",
      "y\n",
      " \n",
      "t\n",
      "o\n",
      " \n",
      "l\n",
      "e\n",
      "a\n",
      "r\n",
      "n\n"
     ]
    }
   ],
   "source": [
    "for x in range(0,len(data)):\n",
    "    \n",
    "    print(data[x])"
   ]
  },
  {
   "cell_type": "code",
   "execution_count": 10,
   "metadata": {},
   "outputs": [
    {
     "name": "stdout",
     "output_type": "stream",
     "text": [
      "p\n",
      "y\n",
      "t\n",
      "h\n",
      "o\n",
      "n\n",
      " \n",
      "i\n",
      "s\n",
      " \n",
      "e\n",
      "a\n",
      "s\n",
      "y\n",
      " \n",
      "t\n",
      "o\n",
      " \n",
      "l\n",
      "e\n",
      "a\n",
      "r\n",
      "n\n"
     ]
    }
   ],
   "source": [
    "i=0\n",
    "\n",
    "while i<=len(data)-1:\n",
    "    print(data[i])\n",
    "    i+=1"
   ]
  },
  {
   "cell_type": "markdown",
   "metadata": {},
   "source": [
    "Example2:\n",
    "    count how many number of vowels and consonants we have in the source string"
   ]
  },
  {
   "cell_type": "code",
   "execution_count": 11,
   "metadata": {},
   "outputs": [
    {
     "name": "stdout",
     "output_type": "stream",
     "text": [
      "Total number of vowels are 7\n",
      "Total number of consonants are 16\n"
     ]
    }
   ],
   "source": [
    "vowels=0\n",
    "consonants=0\n",
    "\n",
    "for chr in data:\n",
    "    \n",
    "    if chr=='a' or chr=='e' or chr=='i' or chr=='o' or chr=='u':\n",
    "        vowels+=1\n",
    "    else:\n",
    "        consonants+=1\n",
    "        \n",
    "\n",
    "print(\"Total number of vowels are \"+str(vowels))\n",
    "print(\"Total number of consonants are \"+str(consonants))\n",
    "    "
   ]
  },
  {
   "cell_type": "markdown",
   "metadata": {},
   "source": [
    "method name: Captalize()\n",
    "    this method will convert the starting letter of the given source string into capital case\n",
    "    \n",
    "    syntax:\n",
    "        \n",
    "        string or string variable.captalize()\n",
    "        \n",
    "        out:string"
   ]
  },
  {
   "cell_type": "code",
   "execution_count": 16,
   "metadata": {},
   "outputs": [
    {
     "name": "stdout",
     "output_type": "stream",
     "text": [
      "Python is easy to understand\n"
     ]
    }
   ],
   "source": [
    "data=\"python is Easy to Understand\"\n",
    "\n",
    "print(data.capitalize())"
   ]
  },
  {
   "cell_type": "markdown",
   "metadata": {},
   "source": [
    "method name: Title()\n",
    "    this method will convert the starting letter of each word into capital case on the given source string \n",
    "    \n",
    "    syntax:\n",
    "        \n",
    "        string or string variable.title()\n",
    "        \n",
    "        out:string"
   ]
  },
  {
   "cell_type": "code",
   "execution_count": 17,
   "metadata": {},
   "outputs": [
    {
     "name": "stdout",
     "output_type": "stream",
     "text": [
      "Python Is Easy To Understand\n"
     ]
    }
   ],
   "source": [
    "print(data.title())"
   ]
  },
  {
   "cell_type": "markdown",
   "metadata": {},
   "source": [
    "method name: casefold() \n",
    "    this method will convert all charcters into lower case on the given source string\n",
    "\n",
    "syntax:\n",
    "\n",
    "    string or string variable.casefold()\n",
    "\n",
    "    out:string"
   ]
  },
  {
   "cell_type": "code",
   "execution_count": 18,
   "metadata": {},
   "outputs": [
    {
     "name": "stdout",
     "output_type": "stream",
     "text": [
      "python is easy to understand\n"
     ]
    }
   ],
   "source": [
    "print(data.casefold())"
   ]
  },
  {
   "cell_type": "markdown",
   "metadata": {},
   "source": [
    "method name: uppercase()\n",
    "    this method will convert all charcters into upper case on the given source string\n",
    "\n",
    "syntax:\n",
    "\n",
    "string or string variable.uppercase()\n",
    "\n",
    "out:string"
   ]
  },
  {
   "cell_type": "code",
   "execution_count": 19,
   "metadata": {},
   "outputs": [
    {
     "name": "stdout",
     "output_type": "stream",
     "text": [
      "PYTHON IS EASY TO UNDERSTAND\n"
     ]
    }
   ],
   "source": [
    "print(data.upper())"
   ]
  },
  {
   "cell_type": "markdown",
   "metadata": {},
   "source": [
    "method name: lower() this method will convert all charcters into lower case on the given source string\n",
    "\n",
    "syntax:\n",
    "\n",
    "string or string variable.lower()\n",
    "\n",
    "out:string"
   ]
  },
  {
   "cell_type": "code",
   "execution_count": 20,
   "metadata": {},
   "outputs": [
    {
     "name": "stdout",
     "output_type": "stream",
     "text": [
      "python is easy to understand\n"
     ]
    }
   ],
   "source": [
    "print(data.lower())"
   ]
  },
  {
   "cell_type": "code",
   "execution_count": null,
   "metadata": {},
   "outputs": [],
   "source": []
  }
 ],
 "metadata": {
  "kernelspec": {
   "display_name": "Python 3",
   "language": "python",
   "name": "python3"
  },
  "language_info": {
   "codemirror_mode": {
    "name": "ipython",
    "version": 3
   },
   "file_extension": ".py",
   "mimetype": "text/x-python",
   "name": "python",
   "nbconvert_exporter": "python",
   "pygments_lexer": "ipython3",
   "version": "3.7.6"
  }
 },
 "nbformat": 4,
 "nbformat_minor": 4
}
