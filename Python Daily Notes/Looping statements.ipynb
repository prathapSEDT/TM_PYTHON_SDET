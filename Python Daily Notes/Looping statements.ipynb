{
 "cells": [
  {
   "cell_type": "markdown",
   "metadata": {},
   "source": [
    "Looping statements are used to iterate same statements for a specific number of times\n",
    "\n",
    "looping statements are used for the purpose of parameterization.\n",
    "\n",
    "replace the variable value in run time with different inputs\n",
    "\n",
    "\n",
    "python supports looping statements like below\n",
    "\n",
    "    * For \n",
    "    \n",
    "        for using range method\n",
    "        for with memeber ship operator \"in\" using any iteratable object\n",
    "        \n",
    "     * While loop\n",
    "     \n",
    "     \n",
    "     \n",
    "for loop:\n",
    "\n",
    "this loop is called as definite loop, which works on the starting point and with the ending point\n",
    "\n",
    "syntax:\n",
    "\n",
    "for x in range(1,10):\n",
    "\n",
    "    //indent with code\n",
    "    \n",
    "while loop:\n",
    "this loop is called as indefinite loop\n",
    "\n",
    "first this loop will check if the condition is true or false\n",
    "\n",
    "if the condition is true then the body will get executed\n",
    " if the condition is true, inside the body ensure that, we have a failing statement else the loop will execue as indefinite loop\n",
    "    \n",
    "    "
   ]
  },
  {
   "cell_type": "code",
   "execution_count": 4,
   "metadata": {},
   "outputs": [
    {
     "name": "stdout",
     "output_type": "stream",
     "text": [
      "1\n",
      "2\n",
      "3\n",
      "4\n",
      "5\n",
      "6\n",
      "7\n",
      "8\n",
      "9\n",
      "10\n",
      "11\n",
      "12\n",
      "13\n",
      "14\n",
      "15\n",
      "16\n",
      "17\n",
      "18\n",
      "19\n",
      "20\n"
     ]
    }
   ],
   "source": [
    "# print numbers in between 1-20\n",
    "\n",
    "for x in range(1,21):\n",
    "    print(x)\n",
    "\n",
    "\n",
    "\n"
   ]
  },
  {
   "cell_type": "code",
   "execution_count": 5,
   "metadata": {},
   "outputs": [
    {
     "name": "stdout",
     "output_type": "stream",
     "text": [
      "1\n",
      "2\n",
      "3\n",
      "4\n",
      "5\n",
      "6\n",
      "7\n",
      "8\n",
      "9\n",
      "10\n",
      "11\n",
      "12\n",
      "13\n",
      "14\n",
      "15\n",
      "16\n",
      "17\n",
      "18\n",
      "19\n",
      "20\n"
     ]
    }
   ],
   "source": [
    "i=1\n",
    "while i<=20:\n",
    "    print(i)\n",
    "    i+=1\n",
    "    "
   ]
  },
  {
   "cell_type": "code",
   "execution_count": null,
   "metadata": {},
   "outputs": [],
   "source": []
  }
 ],
 "metadata": {
  "kernelspec": {
   "display_name": "Python 3",
   "language": "python",
   "name": "python3"
  },
  "language_info": {
   "codemirror_mode": {
    "name": "ipython",
    "version": 3
   },
   "file_extension": ".py",
   "mimetype": "text/x-python",
   "name": "python",
   "nbconvert_exporter": "python",
   "pygments_lexer": "ipython3",
   "version": "3.7.6"
  }
 },
 "nbformat": 4,
 "nbformat_minor": 4
}
